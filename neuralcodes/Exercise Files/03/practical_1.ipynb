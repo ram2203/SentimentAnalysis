{
 "cells": [
  {
   "cell_type": "code",
   "execution_count": 77,
   "metadata": {},
   "outputs": [
    {
     "name": "stdout",
     "output_type": "stream",
     "text": [
      "2.0.0\n"
     ]
    }
   ],
   "source": [
    "import tensorflow as tf\n",
    "import pandas as pd\n",
    "from sklearn.preprocessing import MinMaxScaler\n",
    "from sklearn.model_selection import train_test_split\n",
    "import numpy as np\n",
    "print(tf.__version__)"
   ]
  },
  {
   "cell_type": "code",
   "execution_count": 22,
   "metadata": {},
   "outputs": [],
   "source": [
    "# Load training data set \\from CSV file\n",
    "training_data_df = pd.read_csv(\"sales_data_training.csv\", dtype=float)\n",
    "\n",
    "# Pull out columns for X (data to train with) and Y (value to predict)\n",
    "X_training = training_data_df.drop('total_earnings', axis=1).values\n",
    "Y_training = training_data_df[['total_earnings']].values\n",
    "\n",
    "\n",
    "# Load testing data set from CSV file\n",
    "test_data_df = pd.read_csv(\"sales_data_test.csv\", dtype=float)\n",
    "\n",
    "# Pull out columns for X (data to train with) and Y (value to predict)\n",
    "X_testing = test_data_df.drop('total_earnings', axis=1).values\n",
    "Y_testing = test_data_df[['total_earnings']].values"
   ]
  },
  {
   "cell_type": "code",
   "execution_count": 71,
   "metadata": {},
   "outputs": [
    {
     "data": {
      "text/plain": [
       "array([247537.])"
      ]
     },
     "execution_count": 71,
     "metadata": {},
     "output_type": "execute_result"
    }
   ],
   "source": [
    "Y_testing[0]"
   ]
  },
  {
   "cell_type": "code",
   "execution_count": 72,
   "metadata": {},
   "outputs": [
    {
     "data": {
      "text/plain": [
       "array([ 3.5 ,  1.  ,  1.  ,  1.  ,  0.  ,  1.  ,  0.  ,  1.  , 59.99])"
      ]
     },
     "execution_count": 72,
     "metadata": {},
     "output_type": "execute_result"
    }
   ],
   "source": [
    "X_testing[0]"
   ]
  },
  {
   "cell_type": "code",
   "execution_count": 24,
   "metadata": {},
   "outputs": [],
   "source": [
    "# All data needs to be scaled to a small range like 0 to 1 for the neural\n",
    "# network to work well. Create scalers for the inputs and outputs.\n",
    "X_scaler = MinMaxScaler(feature_range=(0, 1))\n",
    "Y_scaler = MinMaxScaler(feature_range=(0, 1))"
   ]
  },
  {
   "cell_type": "code",
   "execution_count": 78,
   "metadata": {},
   "outputs": [],
   "source": [
    "# Scale both the training inputs and outputs\n",
    "X_scaled_training = X_scaler.fit_transform(X_training)\n",
    "Y_scaled_training = Y_scaler.fit_transform(Y_training)\n",
    "\n",
    "x_scaled_train, x_sclaed_valid, y_scaled_train, y_scaled_valid = train_test_split(X_scaled_training,Y_scaled_training,\n",
    "                                                                                  test_size=0.2,random_state=42)\n",
    "\n",
    "# It's very important that the training and test data are scaled with the same scaler.\n",
    "X_scaled_testing = X_scaler.transform(X_testing)\n",
    "Y_scaled_testing = Y_scaler.transform(Y_testing)"
   ]
  },
  {
   "cell_type": "code",
   "execution_count": 79,
   "metadata": {},
   "outputs": [
    {
     "name": "stdout",
     "output_type": "stream",
     "text": [
      "(400, 9)\n",
      "(400, 1)\n",
      "Note: Y values were scaled by multiplying by 0.0000036968 and adding -0.1159\n"
     ]
    }
   ],
   "source": [
    "print(X_scaled_testing.shape)\n",
    "print(Y_scaled_testing.shape)\n",
    "print(\"Note: Y values were scaled by multiplying by {:.10f} and adding {:.4f}\".format(Y_scaler.scale_[0], Y_scaler.min_[0]))\n"
   ]
  },
  {
   "cell_type": "code",
   "execution_count": 80,
   "metadata": {},
   "outputs": [],
   "source": [
    "# Define model parameters\n",
    "learning_rate = 0.001\n",
    "training_epochs = 100\n",
    "display_step = 5\n",
    "number_of_inputs = 9\n",
    "number_of_outputs = 1\n",
    "layer_1_nodes = 50\n",
    "layer_2_nodes = 100\n",
    "layer_3_nodes = 50"
   ]
  },
  {
   "cell_type": "code",
   "execution_count": 81,
   "metadata": {},
   "outputs": [],
   "source": [
    "#Creating NN\n",
    "\n",
    "cnn = tf.keras.models.Sequential()\n",
    "\n",
    "cnn.add(tf.keras.layers.Flatten())\n",
    "cnn.add(tf.keras.layers.Dense(units=number_of_inputs,activation='relu'))\n",
    "cnn.add(tf.keras.layers.Dense(units=layer_1_nodes,activation='relu'))\n",
    "cnn.add(tf.keras.layers.Dense(units=layer_2_nodes,activation='relu'))\n",
    "cnn.add(tf.keras.layers.Dense(units=layer_3_nodes,activation='relu'))\n",
    "cnn.add(tf.keras.layers.Dense(units=number_of_outputs,activation='sigmoid'))\n"
   ]
  },
  {
   "cell_type": "code",
   "execution_count": 82,
   "metadata": {},
   "outputs": [],
   "source": [
    "cnn.compile(optimizer='adam',loss='mean_squared_error',metrics=['mse'])"
   ]
  },
  {
   "cell_type": "code",
   "execution_count": 93,
   "metadata": {},
   "outputs": [
    {
     "name": "stdout",
     "output_type": "stream",
     "text": [
      "Train on 800 samples, validate on 200 samples\n",
      "Epoch 1/100\n",
      "800/800 [==============================] - 0s 106us/sample - loss: 6.3571e-05 - mse: 6.3571e-05 - val_loss: 1.7036e-04 - val_mse: 1.7036e-04\n",
      "Epoch 2/100\n",
      "800/800 [==============================] - 0s 78us/sample - loss: 7.3021e-05 - mse: 7.3021e-05 - val_loss: 1.5931e-04 - val_mse: 1.5931e-04\n",
      "Epoch 3/100\n",
      "800/800 [==============================] - 0s 88us/sample - loss: 7.0032e-05 - mse: 7.0032e-05 - val_loss: 1.3945e-04 - val_mse: 1.3945e-04\n",
      "Epoch 4/100\n",
      "800/800 [==============================] - 0s 79us/sample - loss: 5.5981e-05 - mse: 5.5981e-05 - val_loss: 1.5895e-04 - val_mse: 1.5895e-04\n",
      "Epoch 5/100\n",
      "800/800 [==============================] - 0s 88us/sample - loss: 6.2214e-05 - mse: 6.2214e-05 - val_loss: 1.5743e-04 - val_mse: 1.5743e-04\n",
      "Epoch 6/100\n",
      "800/800 [==============================] - 0s 89us/sample - loss: 5.1894e-05 - mse: 5.1894e-05 - val_loss: 1.4368e-04 - val_mse: 1.4368e-04\n",
      "Epoch 7/100\n",
      "800/800 [==============================] - 0s 80us/sample - loss: 4.8775e-05 - mse: 4.8775e-05 - val_loss: 1.9652e-04 - val_mse: 1.9652e-04\n",
      "Epoch 8/100\n",
      "800/800 [==============================] - 0s 76us/sample - loss: 5.9197e-05 - mse: 5.9197e-05 - val_loss: 1.4114e-04 - val_mse: 1.4114e-04\n",
      "Epoch 9/100\n",
      "800/800 [==============================] - 0s 78us/sample - loss: 5.3790e-05 - mse: 5.3790e-05 - val_loss: 1.4022e-04 - val_mse: 1.4022e-04\n",
      "Epoch 10/100\n",
      "800/800 [==============================] - 0s 80us/sample - loss: 4.8582e-05 - mse: 4.8582e-05 - val_loss: 1.4557e-04 - val_mse: 1.4557e-04\n",
      "Epoch 11/100\n",
      "800/800 [==============================] - 0s 78us/sample - loss: 4.4540e-05 - mse: 4.4540e-05 - val_loss: 1.5075e-04 - val_mse: 1.5075e-04\n",
      "Epoch 12/100\n",
      "800/800 [==============================] - 0s 85us/sample - loss: 5.6937e-05 - mse: 5.6937e-05 - val_loss: 1.5050e-04 - val_mse: 1.5050e-04\n",
      "Epoch 13/100\n",
      "800/800 [==============================] - 0s 79us/sample - loss: 4.9391e-05 - mse: 4.9391e-05 - val_loss: 1.5250e-04 - val_mse: 1.5250e-04\n",
      "Epoch 14/100\n",
      "800/800 [==============================] - 0s 78us/sample - loss: 5.9141e-05 - mse: 5.9141e-05 - val_loss: 1.6439e-04 - val_mse: 1.6439e-04\n",
      "Epoch 15/100\n",
      "800/800 [==============================] - 0s 84us/sample - loss: 6.5515e-05 - mse: 6.5515e-05 - val_loss: 1.5696e-04 - val_mse: 1.5696e-04\n",
      "Epoch 16/100\n",
      "800/800 [==============================] - 0s 90us/sample - loss: 4.8774e-05 - mse: 4.8774e-05 - val_loss: 1.3839e-04 - val_mse: 1.3839e-04\n",
      "Epoch 17/100\n",
      "800/800 [==============================] - 0s 86us/sample - loss: 4.5219e-05 - mse: 4.5219e-05 - val_loss: 1.4276e-04 - val_mse: 1.4276e-04\n",
      "Epoch 18/100\n",
      "800/800 [==============================] - 0s 104us/sample - loss: 4.0770e-05 - mse: 4.0770e-05 - val_loss: 1.6913e-04 - val_mse: 1.6913e-04\n",
      "Epoch 19/100\n",
      "800/800 [==============================] - 0s 108us/sample - loss: 7.6585e-05 - mse: 7.6585e-05 - val_loss: 1.5883e-04 - val_mse: 1.5883e-04\n",
      "Epoch 20/100\n",
      "800/800 [==============================] - 0s 104us/sample - loss: 5.2033e-05 - mse: 5.2033e-05 - val_loss: 1.5757e-04 - val_mse: 1.5757e-04\n",
      "Epoch 21/100\n",
      "800/800 [==============================] - 0s 103us/sample - loss: 4.7389e-05 - mse: 4.7389e-05 - val_loss: 2.0665e-04 - val_mse: 2.0665e-04\n",
      "Epoch 22/100\n",
      "800/800 [==============================] - 0s 103us/sample - loss: 5.1303e-05 - mse: 5.1303e-05 - val_loss: 1.5661e-04 - val_mse: 1.5661e-04\n",
      "Epoch 23/100\n",
      "800/800 [==============================] - 0s 99us/sample - loss: 5.6164e-05 - mse: 5.6164e-05 - val_loss: 1.4755e-04 - val_mse: 1.4755e-04\n",
      "Epoch 24/100\n",
      "800/800 [==============================] - 0s 101us/sample - loss: 4.8477e-05 - mse: 4.8477e-05 - val_loss: 1.5804e-04 - val_mse: 1.5804e-04\n",
      "Epoch 25/100\n",
      "800/800 [==============================] - 0s 104us/sample - loss: 4.3876e-05 - mse: 4.3876e-05 - val_loss: 1.3977e-04 - val_mse: 1.3977e-04\n",
      "Epoch 26/100\n",
      "800/800 [==============================] - 0s 119us/sample - loss: 4.1227e-05 - mse: 4.1227e-05 - val_loss: 1.4917e-04 - val_mse: 1.4917e-04\n",
      "Epoch 27/100\n",
      "800/800 [==============================] - 0s 96us/sample - loss: 5.0725e-05 - mse: 5.0725e-05 - val_loss: 1.4493e-04 - val_mse: 1.4493e-04\n",
      "Epoch 28/100\n",
      "800/800 [==============================] - 0s 96us/sample - loss: 5.3593e-05 - mse: 5.3593e-05 - val_loss: 1.4248e-04 - val_mse: 1.4248e-04\n",
      "Epoch 29/100\n",
      "800/800 [==============================] - 0s 104us/sample - loss: 5.7189e-05 - mse: 5.7189e-05 - val_loss: 1.5851e-04 - val_mse: 1.5851e-04\n",
      "Epoch 30/100\n",
      "800/800 [==============================] - 0s 103us/sample - loss: 5.8865e-05 - mse: 5.8865e-05 - val_loss: 1.8462e-04 - val_mse: 1.8462e-04\n",
      "Epoch 31/100\n",
      "800/800 [==============================] - 0s 100us/sample - loss: 5.7117e-05 - mse: 5.7117e-05 - val_loss: 1.7314e-04 - val_mse: 1.7314e-04\n",
      "Epoch 32/100\n",
      "800/800 [==============================] - 0s 101us/sample - loss: 6.3655e-05 - mse: 6.3655e-05 - val_loss: 1.5987e-04 - val_mse: 1.5987e-04\n",
      "Epoch 33/100\n",
      "800/800 [==============================] - 0s 110us/sample - loss: 4.9795e-05 - mse: 4.9795e-05 - val_loss: 1.5451e-04 - val_mse: 1.5451e-04\n",
      "Epoch 34/100\n",
      "800/800 [==============================] - 0s 99us/sample - loss: 5.1062e-05 - mse: 5.1062e-05 - val_loss: 1.2907e-04 - val_mse: 1.2907e-04\n",
      "Epoch 35/100\n",
      "800/800 [==============================] - 0s 100us/sample - loss: 4.0596e-05 - mse: 4.0596e-05 - val_loss: 1.3251e-04 - val_mse: 1.3251e-04\n",
      "Epoch 36/100\n",
      "800/800 [==============================] - 0s 95us/sample - loss: 4.4197e-05 - mse: 4.4197e-05 - val_loss: 1.3003e-04 - val_mse: 1.3003e-04\n",
      "Epoch 37/100\n",
      "800/800 [==============================] - 0s 95us/sample - loss: 4.6462e-05 - mse: 4.6462e-05 - val_loss: 1.1342e-04 - val_mse: 1.1342e-04\n",
      "Epoch 38/100\n",
      "800/800 [==============================] - 0s 94us/sample - loss: 8.2807e-05 - mse: 8.2807e-05 - val_loss: 1.3598e-04 - val_mse: 1.3598e-04\n",
      "Epoch 39/100\n",
      "800/800 [==============================] - 0s 88us/sample - loss: 8.5349e-05 - mse: 8.5349e-05 - val_loss: 2.1355e-04 - val_mse: 2.1355e-04\n",
      "Epoch 40/100\n",
      "800/800 [==============================] - 0s 91us/sample - loss: 5.4952e-05 - mse: 5.4952e-05 - val_loss: 1.7117e-04 - val_mse: 1.7117e-04\n",
      "Epoch 41/100\n",
      "800/800 [==============================] - 0s 88us/sample - loss: 4.7205e-05 - mse: 4.7205e-05 - val_loss: 1.5309e-04 - val_mse: 1.5309e-04\n",
      "Epoch 42/100\n",
      "800/800 [==============================] - 0s 86us/sample - loss: 4.3622e-05 - mse: 4.3622e-05 - val_loss: 1.4357e-04 - val_mse: 1.4357e-04\n",
      "Epoch 43/100\n",
      "800/800 [==============================] - 0s 86us/sample - loss: 4.8566e-05 - mse: 4.8566e-05 - val_loss: 1.3665e-04 - val_mse: 1.3665e-04\n",
      "Epoch 44/100\n",
      "800/800 [==============================] - 0s 88us/sample - loss: 5.0301e-05 - mse: 5.0301e-05 - val_loss: 1.2880e-04 - val_mse: 1.2880e-04\n",
      "Epoch 45/100\n",
      "800/800 [==============================] - 0s 85us/sample - loss: 4.9038e-05 - mse: 4.9038e-05 - val_loss: 1.4193e-04 - val_mse: 1.4193e-04\n",
      "Epoch 46/100\n",
      "800/800 [==============================] - 0s 84us/sample - loss: 3.9812e-05 - mse: 3.9812e-05 - val_loss: 1.2775e-04 - val_mse: 1.2775e-04\n",
      "Epoch 47/100\n",
      "800/800 [==============================] - 0s 83us/sample - loss: 3.8333e-05 - mse: 3.8333e-05 - val_loss: 1.4630e-04 - val_mse: 1.4630e-04\n",
      "Epoch 48/100\n",
      "800/800 [==============================] - 0s 100us/sample - loss: 3.5228e-05 - mse: 3.5228e-05 - val_loss: 1.2264e-04 - val_mse: 1.2264e-04\n",
      "Epoch 49/100\n",
      "800/800 [==============================] - 0s 100us/sample - loss: 4.9305e-05 - mse: 4.9305e-05 - val_loss: 1.1796e-04 - val_mse: 1.1796e-04\n",
      "Epoch 50/100\n",
      "800/800 [==============================] - 0s 86us/sample - loss: 3.8853e-05 - mse: 3.8853e-05 - val_loss: 1.3492e-04 - val_mse: 1.3492e-04\n",
      "Epoch 51/100\n",
      "800/800 [==============================] - 0s 84us/sample - loss: 4.0928e-05 - mse: 4.0928e-05 - val_loss: 1.7109e-04 - val_mse: 1.7109e-04\n",
      "Epoch 52/100\n",
      "800/800 [==============================] - 0s 85us/sample - loss: 5.5223e-05 - mse: 5.5223e-05 - val_loss: 1.4758e-04 - val_mse: 1.4758e-04\n",
      "Epoch 53/100\n",
      "800/800 [==============================] - 0s 85us/sample - loss: 5.0807e-05 - mse: 5.0807e-05 - val_loss: 1.4718e-04 - val_mse: 1.4718e-04\n",
      "Epoch 54/100\n"
     ]
    },
    {
     "name": "stdout",
     "output_type": "stream",
     "text": [
      "800/800 [==============================] - 0s 85us/sample - loss: 6.0618e-05 - mse: 6.0618e-05 - val_loss: 1.4183e-04 - val_mse: 1.4183e-04\n",
      "Epoch 55/100\n",
      "800/800 [==============================] - 0s 86us/sample - loss: 4.7087e-05 - mse: 4.7087e-05 - val_loss: 2.1076e-04 - val_mse: 2.1076e-04\n",
      "Epoch 56/100\n",
      "800/800 [==============================] - 0s 79us/sample - loss: 5.1785e-05 - mse: 5.1785e-05 - val_loss: 1.1702e-04 - val_mse: 1.1702e-04\n",
      "Epoch 57/100\n",
      "800/800 [==============================] - 0s 86us/sample - loss: 4.6022e-05 - mse: 4.6022e-05 - val_loss: 1.7424e-04 - val_mse: 1.7424e-04\n",
      "Epoch 58/100\n",
      "800/800 [==============================] - 0s 86us/sample - loss: 4.8908e-05 - mse: 4.8908e-05 - val_loss: 1.5605e-04 - val_mse: 1.5605e-04\n",
      "Epoch 59/100\n",
      "800/800 [==============================] - 0s 79us/sample - loss: 4.2141e-05 - mse: 4.2141e-05 - val_loss: 1.5169e-04 - val_mse: 1.5169e-04\n",
      "Epoch 60/100\n",
      "800/800 [==============================] - 0s 80us/sample - loss: 4.2407e-05 - mse: 4.2407e-05 - val_loss: 1.4160e-04 - val_mse: 1.4160e-04\n",
      "Epoch 61/100\n",
      "800/800 [==============================] - 0s 79us/sample - loss: 3.6992e-05 - mse: 3.6992e-05 - val_loss: 1.2944e-04 - val_mse: 1.2944e-04\n",
      "Epoch 62/100\n",
      "800/800 [==============================] - 0s 85us/sample - loss: 4.8912e-05 - mse: 4.8912e-05 - val_loss: 1.2889e-04 - val_mse: 1.2889e-04\n",
      "Epoch 63/100\n",
      "800/800 [==============================] - 0s 76us/sample - loss: 3.9678e-05 - mse: 3.9678e-05 - val_loss: 1.2087e-04 - val_mse: 1.2087e-04\n",
      "Epoch 64/100\n",
      "800/800 [==============================] - 0s 80us/sample - loss: 5.0470e-05 - mse: 5.0470e-05 - val_loss: 1.3399e-04 - val_mse: 1.3399e-04\n",
      "Epoch 65/100\n",
      "800/800 [==============================] - 0s 80us/sample - loss: 5.4492e-05 - mse: 5.4492e-05 - val_loss: 1.1675e-04 - val_mse: 1.1675e-04\n",
      "Epoch 66/100\n",
      "800/800 [==============================] - 0s 76us/sample - loss: 4.6155e-05 - mse: 4.6155e-05 - val_loss: 1.3791e-04 - val_mse: 1.3791e-04\n",
      "Epoch 67/100\n",
      "800/800 [==============================] - 0s 81us/sample - loss: 5.2437e-05 - mse: 5.2437e-05 - val_loss: 1.4231e-04 - val_mse: 1.4231e-04\n",
      "Epoch 68/100\n",
      "800/800 [==============================] - 0s 85us/sample - loss: 3.4771e-05 - mse: 3.4771e-05 - val_loss: 1.4442e-04 - val_mse: 1.4442e-04\n",
      "Epoch 69/100\n",
      "800/800 [==============================] - 0s 79us/sample - loss: 4.1277e-05 - mse: 4.1277e-05 - val_loss: 1.2921e-04 - val_mse: 1.2921e-04\n",
      "Epoch 70/100\n",
      "800/800 [==============================] - 0s 78us/sample - loss: 6.3196e-05 - mse: 6.3196e-05 - val_loss: 1.4422e-04 - val_mse: 1.4422e-04\n",
      "Epoch 71/100\n",
      "800/800 [==============================] - 0s 80us/sample - loss: 5.3577e-05 - mse: 5.3577e-05 - val_loss: 1.2788e-04 - val_mse: 1.2788e-04\n",
      "Epoch 72/100\n",
      "800/800 [==============================] - 0s 89us/sample - loss: 8.7623e-05 - mse: 8.7623e-05 - val_loss: 1.1378e-04 - val_mse: 1.1378e-04\n",
      "Epoch 73/100\n",
      "800/800 [==============================] - 0s 80us/sample - loss: 3.9177e-05 - mse: 3.9177e-05 - val_loss: 1.0608e-04 - val_mse: 1.0608e-04\n",
      "Epoch 74/100\n",
      "800/800 [==============================] - 0s 78us/sample - loss: 3.4710e-05 - mse: 3.4710e-05 - val_loss: 1.2356e-04 - val_mse: 1.2356e-04\n",
      "Epoch 75/100\n",
      "800/800 [==============================] - 0s 84us/sample - loss: 2.9623e-05 - mse: 2.9623e-05 - val_loss: 1.4154e-04 - val_mse: 1.4154e-04\n",
      "Epoch 76/100\n",
      "800/800 [==============================] - 0s 86us/sample - loss: 3.1218e-05 - mse: 3.1218e-05 - val_loss: 1.1905e-04 - val_mse: 1.1905e-04\n",
      "Epoch 77/100\n",
      "800/800 [==============================] - 0s 85us/sample - loss: 3.8326e-05 - mse: 3.8326e-05 - val_loss: 1.2456e-04 - val_mse: 1.2456e-04\n",
      "Epoch 78/100\n",
      "800/800 [==============================] - 0s 84us/sample - loss: 3.3561e-05 - mse: 3.3561e-05 - val_loss: 1.2099e-04 - val_mse: 1.2099e-04\n",
      "Epoch 79/100\n",
      "800/800 [==============================] - 0s 86us/sample - loss: 3.0926e-05 - mse: 3.0926e-05 - val_loss: 1.2849e-04 - val_mse: 1.2849e-04\n",
      "Epoch 80/100\n",
      "800/800 [==============================] - 0s 86us/sample - loss: 3.2937e-05 - mse: 3.2937e-05 - val_loss: 1.2761e-04 - val_mse: 1.2761e-04\n",
      "Epoch 81/100\n",
      "800/800 [==============================] - 0s 84us/sample - loss: 4.1087e-05 - mse: 4.1087e-05 - val_loss: 1.4103e-04 - val_mse: 1.4103e-04\n",
      "Epoch 82/100\n",
      "800/800 [==============================] - 0s 79us/sample - loss: 5.6186e-05 - mse: 5.6186e-05 - val_loss: 2.1188e-04 - val_mse: 2.1188e-04\n",
      "Epoch 83/100\n",
      "800/800 [==============================] - 0s 78us/sample - loss: 9.1007e-05 - mse: 9.1007e-05 - val_loss: 1.3865e-04 - val_mse: 1.3865e-04\n",
      "Epoch 84/100\n",
      "800/800 [==============================] - 0s 85us/sample - loss: 6.8851e-05 - mse: 6.8851e-05 - val_loss: 1.4356e-04 - val_mse: 1.4356e-04\n",
      "Epoch 85/100\n",
      "800/800 [==============================] - 0s 79us/sample - loss: 5.3953e-05 - mse: 5.3953e-05 - val_loss: 1.1309e-04 - val_mse: 1.1309e-04\n",
      "Epoch 86/100\n",
      "800/800 [==============================] - 0s 76us/sample - loss: 3.2555e-05 - mse: 3.2555e-05 - val_loss: 1.0948e-04 - val_mse: 1.0948e-04\n",
      "Epoch 87/100\n",
      "800/800 [==============================] - 0s 80us/sample - loss: 3.9176e-05 - mse: 3.9176e-05 - val_loss: 1.4913e-04 - val_mse: 1.4913e-04\n",
      "Epoch 88/100\n",
      "800/800 [==============================] - 0s 79us/sample - loss: 5.8034e-05 - mse: 5.8034e-05 - val_loss: 1.7893e-04 - val_mse: 1.7893e-04\n",
      "Epoch 89/100\n",
      "800/800 [==============================] - 0s 76us/sample - loss: 8.2411e-05 - mse: 8.2411e-05 - val_loss: 1.5023e-04 - val_mse: 1.5023e-04\n",
      "Epoch 90/100\n",
      "800/800 [==============================] - 0s 79us/sample - loss: 5.6024e-05 - mse: 5.6024e-05 - val_loss: 1.1932e-04 - val_mse: 1.1932e-04\n",
      "Epoch 91/100\n",
      "800/800 [==============================] - 0s 84us/sample - loss: 3.1531e-05 - mse: 3.1531e-05 - val_loss: 1.1291e-04 - val_mse: 1.1291e-04\n",
      "Epoch 92/100\n",
      "800/800 [==============================] - 0s 80us/sample - loss: 4.4688e-05 - mse: 4.4688e-05 - val_loss: 1.0870e-04 - val_mse: 1.0870e-04\n",
      "Epoch 93/100\n",
      "800/800 [==============================] - 0s 79us/sample - loss: 4.3379e-05 - mse: 4.3379e-05 - val_loss: 1.9616e-04 - val_mse: 1.9616e-04\n",
      "Epoch 94/100\n",
      "800/800 [==============================] - 0s 83us/sample - loss: 5.3489e-05 - mse: 5.3489e-05 - val_loss: 1.2163e-04 - val_mse: 1.2163e-04\n",
      "Epoch 95/100\n",
      "800/800 [==============================] - 0s 90us/sample - loss: 4.7838e-05 - mse: 4.7838e-05 - val_loss: 1.5994e-04 - val_mse: 1.5994e-04\n",
      "Epoch 96/100\n",
      "800/800 [==============================] - 0s 79us/sample - loss: 3.8424e-05 - mse: 3.8424e-05 - val_loss: 1.2199e-04 - val_mse: 1.2199e-04\n",
      "Epoch 97/100\n",
      "800/800 [==============================] - 0s 85us/sample - loss: 3.2178e-05 - mse: 3.2178e-05 - val_loss: 1.0940e-04 - val_mse: 1.0940e-04\n",
      "Epoch 98/100\n",
      "800/800 [==============================] - 0s 80us/sample - loss: 2.4057e-05 - mse: 2.4057e-05 - val_loss: 1.1908e-04 - val_mse: 1.1908e-04\n",
      "Epoch 99/100\n",
      "800/800 [==============================] - 0s 76us/sample - loss: 3.1506e-05 - mse: 3.1506e-05 - val_loss: 1.1197e-04 - val_mse: 1.1197e-04\n",
      "Epoch 100/100\n",
      "800/800 [==============================] - 0s 80us/sample - loss: 4.3531e-05 - mse: 4.3531e-05 - val_loss: 1.2625e-04 - val_mse: 1.2625e-04\n"
     ]
    }
   ],
   "source": [
    "hist=cnn.fit(x_scaled_train, y_scaled_train, epochs=100,validation_data=(x_sclaed_valid, y_scaled_valid))"
   ]
  },
  {
   "cell_type": "code",
   "execution_count": 85,
   "metadata": {},
   "outputs": [],
   "source": [
    "y_pred = cnn.predict(X_scaled_testing)"
   ]
  },
  {
   "cell_type": "code",
   "execution_count": 86,
   "metadata": {},
   "outputs": [],
   "source": [
    "from sklearn.metrics import mean_squared_error"
   ]
  },
  {
   "cell_type": "code",
   "execution_count": 87,
   "metadata": {},
   "outputs": [
    {
     "data": {
      "text/plain": [
       "0.0001234642146753854"
      ]
     },
     "execution_count": 87,
     "metadata": {},
     "output_type": "execute_result"
    }
   ],
   "source": [
    "mean_squared_error(Y_scaled_testing,y_pred)"
   ]
  },
  {
   "cell_type": "code",
   "execution_count": 90,
   "metadata": {},
   "outputs": [],
   "source": [
    "import matplotlib.pyplot as plt"
   ]
  },
  {
   "cell_type": "code",
   "execution_count": 94,
   "metadata": {},
   "outputs": [
    {
     "data": {
      "image/png": "[encoded data removed]",
      "text/plain": [
       "<Figure size 432x288 with 1 Axes>"
      ]
     },
     "metadata": {
      "needs_background": "light"
     },
     "output_type": "display_data"
    }
   ],
   "source": [
    "plt.plot(hist.history['loss'])\n",
    "plt.plot(hist.history['val_loss'])\n",
    "plt.title('Model loss')\n",
    "plt.ylabel('Loss')\n",
    "plt.xlabel('Epoch')\n",
    "plt.legend(['Train', 'Val'], loc='upper right')\n",
    "plt.show()"
   ]
  }
 ],
 "metadata": {
  "kernelspec": {
   "display_name": "Python 3",
   "language": "python",
   "name": "python3"
  },
  "language_info": {
   "codemirror_mode": {
    "name": "ipython",
    "version": 3
   },
   "file_extension": ".py",
   "mimetype": "text/x-python",
   "name": "python",
   "nbconvert_exporter": "python",
   "pygments_lexer": "ipython3",
   "version": "3.7.4"
  }
 },
 "nbformat": 4,
 "nbformat_minor": 2
}
